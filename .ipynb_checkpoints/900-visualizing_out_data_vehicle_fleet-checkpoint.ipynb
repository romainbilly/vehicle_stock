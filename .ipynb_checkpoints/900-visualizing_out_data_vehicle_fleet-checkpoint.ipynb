{
 "cells": [
  {
   "cell_type": "markdown",
   "metadata": {},
   "source": [
    "# This notebook's function is to read in the data from the out_.xlsx files (which should all be in a consistent format) and generate an excel file from the data."
   ]
  },
  {
   "cell_type": "code",
   "execution_count": 2,
   "metadata": {},
   "outputs": [],
   "source": [
    "# import modules\n",
    "import pickle\n",
    "import numpy as np\n",
    "import pandas as pd\n",
    "import matplotlib.pyplot as plt"
   ]
  },
  {
   "cell_type": "markdown",
   "metadata": {},
   "source": [
    "Read in all of the out_.xlsx files, they can be read from column M of Vehicle_fleet_data "
   ]
  },
  {
   "cell_type": "code",
   "execution_count": 3,
   "metadata": {
    "scrolled": true
   },
   "outputs": [],
   "source": [
    "# # read in data, set the header to be the desired column titles\n",
    "# df = pd.read_excel('vehicle_fleet_stock.xlsx', sheet_name= 'data', index_col=[0],)\n",
    "# df.index.name = 'id'\n",
    "# df # view the data frame"
   ]
  },
  {
   "cell_type": "code",
   "execution_count": 4,
   "metadata": {},
   "outputs": [],
   "source": [
    "# this should have the same result\n",
    "df = pd.read_pickle('stock_df.pickle')"
   ]
  },
  {
   "cell_type": "code",
   "execution_count": 5,
   "metadata": {},
   "outputs": [
    {
     "data": {
      "text/html": [
       "<div>\n",
       "<style scoped>\n",
       "    .dataframe tbody tr th:only-of-type {\n",
       "        vertical-align: middle;\n",
       "    }\n",
       "\n",
       "    .dataframe tbody tr th {\n",
       "        vertical-align: top;\n",
       "    }\n",
       "\n",
       "    .dataframe thead th {\n",
       "        text-align: right;\n",
       "    }\n",
       "</style>\n",
       "<table border=\"1\" class=\"dataframe\">\n",
       "  <thead>\n",
       "    <tr style=\"text-align: right;\">\n",
       "      <th></th>\n",
       "      <th>accessed</th>\n",
       "      <th>date_of_measurement</th>\n",
       "      <th>footnote</th>\n",
       "      <th>geo</th>\n",
       "      <th>model_year</th>\n",
       "      <th>motor_energy</th>\n",
       "      <th>notebook</th>\n",
       "      <th>process</th>\n",
       "      <th>source</th>\n",
       "      <th>unit</th>\n",
       "      <th>value</th>\n",
       "      <th>vehicle_class</th>\n",
       "      <th>vehicle_segment</th>\n",
       "      <th>year_of_first_registraion</th>\n",
       "      <th>year_of_measurement</th>\n",
       "    </tr>\n",
       "  </thead>\n",
       "  <tbody>\n",
       "    <tr>\n",
       "      <th>005000000010</th>\n",
       "      <td>2020-07-06</td>\n",
       "      <td></td>\n",
       "      <td>NaN</td>\n",
       "      <td>40</td>\n",
       "      <td>all</td>\n",
       "      <td>all</td>\n",
       "      <td>005_s_EU_1996_2018_cl(pc)_wt_eurostat.ipynb</td>\n",
       "      <td>r</td>\n",
       "      <td>EUROSTAT</td>\n",
       "      <td>nr</td>\n",
       "      <td>829000</td>\n",
       "      <td>EUM1</td>\n",
       "      <td>b100</td>\n",
       "      <td></td>\n",
       "      <td>2006</td>\n",
       "    </tr>\n",
       "    <tr>\n",
       "      <th>005000000011</th>\n",
       "      <td>2020-07-06</td>\n",
       "      <td></td>\n",
       "      <td>NaN</td>\n",
       "      <td>40</td>\n",
       "      <td>all</td>\n",
       "      <td>all</td>\n",
       "      <td>005_s_EU_1996_2018_cl(pc)_wt_eurostat.ipynb</td>\n",
       "      <td>r</td>\n",
       "      <td>EUROSTAT</td>\n",
       "      <td>nr</td>\n",
       "      <td>772000</td>\n",
       "      <td>EUM1</td>\n",
       "      <td>b100</td>\n",
       "      <td></td>\n",
       "      <td>2007</td>\n",
       "    </tr>\n",
       "    <tr>\n",
       "      <th>005000000012</th>\n",
       "      <td>2020-07-06</td>\n",
       "      <td></td>\n",
       "      <td>NaN</td>\n",
       "      <td>40</td>\n",
       "      <td>all</td>\n",
       "      <td>all</td>\n",
       "      <td>005_s_EU_1996_2018_cl(pc)_wt_eurostat.ipynb</td>\n",
       "      <td>r</td>\n",
       "      <td>EUROSTAT</td>\n",
       "      <td>nr</td>\n",
       "      <td>728000</td>\n",
       "      <td>EUM1</td>\n",
       "      <td>b100</td>\n",
       "      <td></td>\n",
       "      <td>2008</td>\n",
       "    </tr>\n",
       "    <tr>\n",
       "      <th>005000000013</th>\n",
       "      <td>2020-07-06</td>\n",
       "      <td></td>\n",
       "      <td>NaN</td>\n",
       "      <td>40</td>\n",
       "      <td>all</td>\n",
       "      <td>all</td>\n",
       "      <td>005_s_EU_1996_2018_cl(pc)_wt_eurostat.ipynb</td>\n",
       "      <td>r</td>\n",
       "      <td>EUROSTAT</td>\n",
       "      <td>nr</td>\n",
       "      <td>688000</td>\n",
       "      <td>EUM1</td>\n",
       "      <td>b100</td>\n",
       "      <td></td>\n",
       "      <td>2009</td>\n",
       "    </tr>\n",
       "    <tr>\n",
       "      <th>005000000014</th>\n",
       "      <td>2020-07-06</td>\n",
       "      <td></td>\n",
       "      <td>NaN</td>\n",
       "      <td>40</td>\n",
       "      <td>all</td>\n",
       "      <td>all</td>\n",
       "      <td>005_s_EU_1996_2018_cl(pc)_wt_eurostat.ipynb</td>\n",
       "      <td>r</td>\n",
       "      <td>EUROSTAT</td>\n",
       "      <td>nr</td>\n",
       "      <td>657000</td>\n",
       "      <td>EUM1</td>\n",
       "      <td>b100</td>\n",
       "      <td></td>\n",
       "      <td>2010</td>\n",
       "    </tr>\n",
       "    <tr>\n",
       "      <th>...</th>\n",
       "      <td>...</td>\n",
       "      <td>...</td>\n",
       "      <td>...</td>\n",
       "      <td>...</td>\n",
       "      <td>...</td>\n",
       "      <td>...</td>\n",
       "      <td>...</td>\n",
       "      <td>...</td>\n",
       "      <td>...</td>\n",
       "      <td>...</td>\n",
       "      <td>...</td>\n",
       "      <td>...</td>\n",
       "      <td>...</td>\n",
       "      <td>...</td>\n",
       "      <td>...</td>\n",
       "    </tr>\n",
       "    <tr>\n",
       "      <th>007000000643</th>\n",
       "      <td>2020-08-04</td>\n",
       "      <td></td>\n",
       "      <td></td>\n",
       "      <td>578</td>\n",
       "      <td>all</td>\n",
       "      <td>OTH</td>\n",
       "      <td>007_s_NO_2008_2019_cl_me_statbank.ipynb</td>\n",
       "      <td>r</td>\n",
       "      <td>STATBANK</td>\n",
       "      <td>nr</td>\n",
       "      <td>2</td>\n",
       "      <td>NOCV</td>\n",
       "      <td>all</td>\n",
       "      <td></td>\n",
       "      <td>2019</td>\n",
       "    </tr>\n",
       "    <tr>\n",
       "      <th>007000000644</th>\n",
       "      <td>2020-08-04</td>\n",
       "      <td></td>\n",
       "      <td></td>\n",
       "      <td>578</td>\n",
       "      <td>all</td>\n",
       "      <td>OTH</td>\n",
       "      <td>007_s_NO_2008_2019_cl_me_statbank.ipynb</td>\n",
       "      <td>r</td>\n",
       "      <td>STATBANK</td>\n",
       "      <td>nr</td>\n",
       "      <td>75</td>\n",
       "      <td>NOLO</td>\n",
       "      <td>all</td>\n",
       "      <td></td>\n",
       "      <td>2019</td>\n",
       "    </tr>\n",
       "    <tr>\n",
       "      <th>007000000645</th>\n",
       "      <td>2020-08-04</td>\n",
       "      <td></td>\n",
       "      <td></td>\n",
       "      <td>578</td>\n",
       "      <td>all</td>\n",
       "      <td>OTH</td>\n",
       "      <td>007_s_NO_2008_2019_cl_me_statbank.ipynb</td>\n",
       "      <td>r</td>\n",
       "      <td>STATBANK</td>\n",
       "      <td>nr</td>\n",
       "      <td>0</td>\n",
       "      <td>NOMP</td>\n",
       "      <td>all</td>\n",
       "      <td></td>\n",
       "      <td>2019</td>\n",
       "    </tr>\n",
       "    <tr>\n",
       "      <th>007000000646</th>\n",
       "      <td>2020-08-04</td>\n",
       "      <td></td>\n",
       "      <td></td>\n",
       "      <td>578</td>\n",
       "      <td>all</td>\n",
       "      <td>OTH</td>\n",
       "      <td>007_s_NO_2008_2019_cl_me_statbank.ipynb</td>\n",
       "      <td>r</td>\n",
       "      <td>STATBANK</td>\n",
       "      <td>nr</td>\n",
       "      <td>1</td>\n",
       "      <td>NOLMC</td>\n",
       "      <td>all</td>\n",
       "      <td></td>\n",
       "      <td>2019</td>\n",
       "    </tr>\n",
       "    <tr>\n",
       "      <th>007000000647</th>\n",
       "      <td>2020-08-04</td>\n",
       "      <td></td>\n",
       "      <td></td>\n",
       "      <td>578</td>\n",
       "      <td>all</td>\n",
       "      <td>OTH</td>\n",
       "      <td>007_s_NO_2008_2019_cl_me_statbank.ipynb</td>\n",
       "      <td>r</td>\n",
       "      <td>STATBANK</td>\n",
       "      <td>nr</td>\n",
       "      <td>8</td>\n",
       "      <td>NOHMC</td>\n",
       "      <td>all</td>\n",
       "      <td></td>\n",
       "      <td>2019</td>\n",
       "    </tr>\n",
       "  </tbody>\n",
       "</table>\n",
       "<p>7169 rows × 15 columns</p>\n",
       "</div>"
      ],
      "text/plain": [
       "                accessed date_of_measurement footnote  geo model_year  \\\n",
       "005000000010  2020-07-06                          NaN   40        all   \n",
       "005000000011  2020-07-06                          NaN   40        all   \n",
       "005000000012  2020-07-06                          NaN   40        all   \n",
       "005000000013  2020-07-06                          NaN   40        all   \n",
       "005000000014  2020-07-06                          NaN   40        all   \n",
       "...                  ...                 ...      ...  ...        ...   \n",
       "007000000643  2020-08-04                               578        all   \n",
       "007000000644  2020-08-04                               578        all   \n",
       "007000000645  2020-08-04                               578        all   \n",
       "007000000646  2020-08-04                               578        all   \n",
       "007000000647  2020-08-04                               578        all   \n",
       "\n",
       "             motor_energy                                     notebook  \\\n",
       "005000000010          all  005_s_EU_1996_2018_cl(pc)_wt_eurostat.ipynb   \n",
       "005000000011          all  005_s_EU_1996_2018_cl(pc)_wt_eurostat.ipynb   \n",
       "005000000012          all  005_s_EU_1996_2018_cl(pc)_wt_eurostat.ipynb   \n",
       "005000000013          all  005_s_EU_1996_2018_cl(pc)_wt_eurostat.ipynb   \n",
       "005000000014          all  005_s_EU_1996_2018_cl(pc)_wt_eurostat.ipynb   \n",
       "...                   ...                                          ...   \n",
       "007000000643          OTH      007_s_NO_2008_2019_cl_me_statbank.ipynb   \n",
       "007000000644          OTH      007_s_NO_2008_2019_cl_me_statbank.ipynb   \n",
       "007000000645          OTH      007_s_NO_2008_2019_cl_me_statbank.ipynb   \n",
       "007000000646          OTH      007_s_NO_2008_2019_cl_me_statbank.ipynb   \n",
       "007000000647          OTH      007_s_NO_2008_2019_cl_me_statbank.ipynb   \n",
       "\n",
       "             process    source unit   value vehicle_class vehicle_segment  \\\n",
       "005000000010       r  EUROSTAT   nr  829000          EUM1            b100   \n",
       "005000000011       r  EUROSTAT   nr  772000          EUM1            b100   \n",
       "005000000012       r  EUROSTAT   nr  728000          EUM1            b100   \n",
       "005000000013       r  EUROSTAT   nr  688000          EUM1            b100   \n",
       "005000000014       r  EUROSTAT   nr  657000          EUM1            b100   \n",
       "...              ...       ...  ...     ...           ...             ...   \n",
       "007000000643       r  STATBANK   nr       2          NOCV             all   \n",
       "007000000644       r  STATBANK   nr      75          NOLO             all   \n",
       "007000000645       r  STATBANK   nr       0          NOMP             all   \n",
       "007000000646       r  STATBANK   nr       1         NOLMC             all   \n",
       "007000000647       r  STATBANK   nr       8         NOHMC             all   \n",
       "\n",
       "             year_of_first_registraion year_of_measurement  \n",
       "005000000010                                          2006  \n",
       "005000000011                                          2007  \n",
       "005000000012                                          2008  \n",
       "005000000013                                          2009  \n",
       "005000000014                                          2010  \n",
       "...                                ...                 ...  \n",
       "007000000643                                          2019  \n",
       "007000000644                                          2019  \n",
       "007000000645                                          2019  \n",
       "007000000646                                          2019  \n",
       "007000000647                                          2019  \n",
       "\n",
       "[7169 rows x 15 columns]"
      ]
     },
     "execution_count": 5,
     "metadata": {},
     "output_type": "execute_result"
    }
   ],
   "source": [
    "df"
   ]
  },
  {
   "cell_type": "code",
   "execution_count": null,
   "metadata": {},
   "outputs": [],
   "source": [
    "# This section of code should convert the geo codes back into legible names\n"
   ]
  },
  {
   "cell_type": "markdown",
   "metadata": {},
   "source": [
    "## now I'd like to make a new dataframe focusing on just passenger cars as defined by my own definition 'p_c' in vehicle_fleet_dictionary.xlsx\n",
    "\n"
   ]
  },
  {
   "cell_type": "code",
   "execution_count": null,
   "metadata": {},
   "outputs": [],
   "source": [
    "# copy the dataframe to make a new object named p_c\n",
    "df_p_or_c = df.copy()"
   ]
  },
  {
   "cell_type": "code",
   "execution_count": null,
   "metadata": {},
   "outputs": [],
   "source": [
    "# read in the dictiory file\n",
    "dictxls = pd.ExcelFile('vehicle_fleet_dictionary.xlsx')\n",
    "# assemble p_c dictionary lists\n",
    "class_dict_df = pd.read_excel(dictxls, sheet_name= 'class', index_col= 0)\n",
    "pass_or_com = class_dict_df['p_c'].to_list()\n",
    "class_code = class_dict_df['class_code'].to_list()\n",
    "class_dict_df"
   ]
  },
  {
   "cell_type": "code",
   "execution_count": null,
   "metadata": {},
   "outputs": [],
   "source": [
    "# replace the vehicle class codes with p_c codes\n",
    "df_p_or_c['vehicle_class'].replace(to_replace=class_code, value=pass_or_com, inplace=True)"
   ]
  },
  {
   "cell_type": "code",
   "execution_count": null,
   "metadata": {},
   "outputs": [],
   "source": [
    "# make a datafram of just the passenger cars (according to *somewhat* arbitrary mapping)\n",
    "p_df = df_p_or_c[(df_p_or_c.vehicle_class=='p')]\n",
    "p_df"
   ]
  },
  {
   "cell_type": "markdown",
   "metadata": {},
   "source": [
    "### Compare the passenger car data from Eurostat and OICA"
   ]
  },
  {
   "cell_type": "code",
   "execution_count": null,
   "metadata": {},
   "outputs": [],
   "source": [
    "# get passenger cars for norway where all attributes are all and source is eurostat\n",
    "p_no_euro= p_df[(p_df.geo==578) & (p_df.source=='EUROSTAT') & (p_df.motor_energy=='all') & (p_df.vehicle_segment=='all')]\n",
    "p_no_euro"
   ]
  },
  {
   "cell_type": "code",
   "execution_count": null,
   "metadata": {},
   "outputs": [],
   "source": [
    "# get passenger cars for norway where all attributes are all and source is oica\n",
    "p_no_oica=  p_df[(p_df.geo==578) & (p_df.source=='EUROSTAT') & (p_df.motor_energy=='all') & (p_df.vehicle_segment=='all')]\n",
    "p_no_oica"
   ]
  },
  {
   "cell_type": "code",
   "execution_count": null,
   "metadata": {},
   "outputs": [],
   "source": [
    "# plot on separate plots with pandas built in plot function\n",
    "p_no_euro.plot(x='year_of_measurement', y = 'value')\n",
    "p_no_oica.plot(x='year_of_measurement', y = 'value')"
   ]
  },
  {
   "cell_type": "markdown",
   "metadata": {},
   "source": [
    "Well, this is a fairly uninformative plot. though it shows us that the Eurostat data and the OICA data match. I guess the useability of the data will increase once we get more data in it."
   ]
  },
  {
   "cell_type": "markdown",
   "metadata": {},
   "source": [
    "### Lets try to compare BEV's in Norway and in Sweden"
   ]
  },
  {
   "cell_type": "code",
   "execution_count": null,
   "metadata": {},
   "outputs": [],
   "source": [
    "p_no_BEV= p_df[(p_df.geo==578) & (p_df.motor_energy=='BEV') & (p_df.vehicle_segment=='all')]\n",
    "p_no_BEV"
   ]
  },
  {
   "cell_type": "code",
   "execution_count": null,
   "metadata": {},
   "outputs": [],
   "source": [
    "p_se_BEV= p_df[(p_df.geo==752) & (p_df.motor_energy=='BEV') & (p_df.vehicle_segment=='all')]\n",
    "p_se_BEV"
   ]
  },
  {
   "cell_type": "code",
   "execution_count": null,
   "metadata": {},
   "outputs": [],
   "source": [
    "# gca stands for 'get current axis'\n",
    "ax = plt.gca()\n",
    "\n",
    "p_no_BEV.plot(kind='line',x='year_of_measurement',y='value',ax=ax)\n",
    "p_se_BEV.plot(kind='line',x='year_of_measurement',y='value',ax=ax)\n",
    "\n",
    "plt.show()\n"
   ]
  },
  {
   "cell_type": "markdown",
   "metadata": {},
   "source": [
    "This is a bit more useful. I don't want to spend too much time on this as I'm not up on plotting in pandas. But the concept is there at least"
   ]
  }
 ],
 "metadata": {
  "kernelspec": {
   "display_name": "Python 3",
   "language": "python",
   "name": "python3"
  },
  "language_info": {
   "codemirror_mode": {
    "name": "ipython",
    "version": 3
   },
   "file_extension": ".py",
   "mimetype": "text/x-python",
   "name": "python",
   "nbconvert_exporter": "python",
   "pygments_lexer": "ipython3",
   "version": "3.7.7"
  },
  "varInspector": {
   "cols": {
    "lenName": 16,
    "lenType": 16,
    "lenVar": 40
   },
   "kernels_config": {
    "python": {
     "delete_cmd_postfix": "",
     "delete_cmd_prefix": "del ",
     "library": "var_list.py",
     "varRefreshCmd": "print(var_dic_list())"
    },
    "r": {
     "delete_cmd_postfix": ") ",
     "delete_cmd_prefix": "rm(",
     "library": "var_list.r",
     "varRefreshCmd": "cat(var_dic_list()) "
    }
   },
   "types_to_exclude": [
    "module",
    "function",
    "builtin_function_or_method",
    "instance",
    "_Feature"
   ],
   "window_display": false
  }
 },
 "nbformat": 4,
 "nbformat_minor": 2
}
