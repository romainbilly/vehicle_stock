{
 "cells": [
  {
   "cell_type": "code",
   "execution_count": 7,
   "metadata": {},
   "outputs": [],
   "source": [
    "# import libraries\n",
    "import numpy as np\n",
    "import pandas as pd\n",
    "import matplotlib as plt\n",
    "import pickle\n"
   ]
  },
  {
   "cell_type": "code",
   "execution_count": 8,
   "metadata": {},
   "outputs": [],
   "source": [
    "# load in the stock DataFrame pickle\n",
    "df = pd.read_pickle('stock_df.pickle')"
   ]
  },
  {
   "cell_type": "code",
   "execution_count": 4,
   "metadata": {},
   "outputs": [
    {
     "data": {
      "text/html": [
       "<div>\n",
       "<style scoped>\n",
       "    .dataframe tbody tr th:only-of-type {\n",
       "        vertical-align: middle;\n",
       "    }\n",
       "\n",
       "    .dataframe tbody tr th {\n",
       "        vertical-align: top;\n",
       "    }\n",
       "\n",
       "    .dataframe thead th {\n",
       "        text-align: right;\n",
       "    }\n",
       "</style>\n",
       "<table border=\"1\" class=\"dataframe\">\n",
       "  <thead>\n",
       "    <tr style=\"text-align: right;\">\n",
       "      <th></th>\n",
       "      <th>accessed</th>\n",
       "      <th>date_of_measurement</th>\n",
       "      <th>footnote</th>\n",
       "      <th>geo</th>\n",
       "      <th>model_year</th>\n",
       "      <th>motor_energy</th>\n",
       "      <th>notebook</th>\n",
       "      <th>process</th>\n",
       "      <th>source</th>\n",
       "      <th>unit</th>\n",
       "      <th>value</th>\n",
       "      <th>vehicle_class</th>\n",
       "      <th>vehicle_segment</th>\n",
       "      <th>year_of_first_registraion</th>\n",
       "      <th>year_of_measurement</th>\n",
       "    </tr>\n",
       "  </thead>\n",
       "  <tbody>\n",
       "  </tbody>\n",
       "</table>\n",
       "</div>"
      ],
      "text/plain": [
       "Empty DataFrame\n",
       "Columns: [accessed, date_of_measurement, footnote, geo, model_year, motor_energy, notebook, process, source, unit, value, vehicle_class, vehicle_segment, year_of_first_registraion, year_of_measurement]\n",
       "Index: []"
      ]
     },
     "execution_count": 4,
     "metadata": {},
     "output_type": "execute_result"
    }
   ],
   "source": [
    "# This section of code should convert the geo codes back into legible names\n",
    "geographyMetadata = pd.read_excel('metadata_vehicle_fleet.xlsx', sheet_name= 'geography_metadata', skiprows= 1 ,index_col=[0])\n",
    "\n",
    "# make 2 lists of the UN_codes and country names\n",
    "geoCode= geographyMetadata.code.astype(str).tolist()\n",
    "geoName= geographyMetadata.name.tolist()\n",
    "\n",
    "# df['geo'].replace(to_replace= sourceLabel, value= sourceCode, inplace=True)\n",
    "df['geo'].replace(to_replace= geoCode,     value= geoName,    inplace=True)\n",
    "\n",
    "\n",
    "#check if there are any rows which do not have country names within list\n",
    "df.loc[~df['geo'].isin(geoName)]"
   ]
  },
  {
   "cell_type": "code",
   "execution_count": 6,
   "metadata": {},
   "outputs": [],
   "source": [
    "# write the updated stock dataframe to pickle\n",
    "df.to_pickle('stock_df.pickle')"
   ]
  }
 ],
 "metadata": {
  "kernelspec": {
   "display_name": "Python 3",
   "language": "python",
   "name": "python3"
  },
  "language_info": {
   "codemirror_mode": {
    "name": "ipython",
    "version": 3
   },
   "file_extension": ".py",
   "mimetype": "text/x-python",
   "name": "python",
   "nbconvert_exporter": "python",
   "pygments_lexer": "ipython3",
   "version": "3.7.7"
  },
  "varInspector": {
   "cols": {
    "lenName": 16,
    "lenType": 16,
    "lenVar": 40
   },
   "kernels_config": {
    "python": {
     "delete_cmd_postfix": "",
     "delete_cmd_prefix": "del ",
     "library": "var_list.py",
     "varRefreshCmd": "print(var_dic_list())"
    },
    "r": {
     "delete_cmd_postfix": ") ",
     "delete_cmd_prefix": "rm(",
     "library": "var_list.r",
     "varRefreshCmd": "cat(var_dic_list()) "
    }
   },
   "types_to_exclude": [
    "module",
    "function",
    "builtin_function_or_method",
    "instance",
    "_Feature"
   ],
   "window_display": false
  }
 },
 "nbformat": 4,
 "nbformat_minor": 4
}
